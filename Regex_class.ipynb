{
 "cells": [
  {
   "cell_type": "code",
   "execution_count": 1,
   "metadata": {},
   "outputs": [],
   "source": [
    "import re"
   ]
  },
  {
   "cell_type": "code",
   "execution_count": 3,
   "metadata": {},
   "outputs": [],
   "source": [
    "text = 'hello, world'"
   ]
  },
  {
   "cell_type": "code",
   "execution_count": 8,
   "metadata": {},
   "outputs": [
    {
     "data": {
      "text/plain": [
       "<re.Match object; span=(0, 5), match='hello'>"
      ]
     },
     "execution_count": 8,
     "metadata": {},
     "output_type": "execute_result"
    }
   ],
   "source": [
    "re.search('hello', text) # returns an object"
   ]
  },
  {
   "cell_type": "code",
   "execution_count": 16,
   "metadata": {},
   "outputs": [],
   "source": [
    "# Find all matches and return as a list\n",
    "text = r'Hello, world and Hello, all of you'"
   ]
  },
  {
   "cell_type": "code",
   "execution_count": 17,
   "metadata": {},
   "outputs": [
    {
     "data": {
      "text/plain": [
       "['Hello', 'Hello']"
      ]
     },
     "execution_count": 17,
     "metadata": {},
     "output_type": "execute_result"
    }
   ],
   "source": [
    "re.findall('Hello', text)"
   ]
  },
  {
   "cell_type": "code",
   "execution_count": 41,
   "metadata": {},
   "outputs": [],
   "source": [
    "pattern = re.compile(r'you') # it will search for exact this combination: abc"
   ]
  },
  {
   "cell_type": "code",
   "execution_count": 42,
   "metadata": {},
   "outputs": [
    {
     "name": "stdout",
     "output_type": "stream",
     "text": [
      "<re.Match object; span=(31, 34), match='you'>\n"
     ]
    }
   ],
   "source": [
    "matches = pattern.finditer(text)\n",
    "for m in matches:\n",
    "    print(m) # what it shows that the word \"world\" in my string starts at position 7 and goes to position 12"
   ]
  },
  {
   "cell_type": "code",
   "execution_count": 43,
   "metadata": {},
   "outputs": [
    {
     "name": "stdout",
     "output_type": "stream",
     "text": [
      "you\n"
     ]
    }
   ],
   "source": [
    "# now we can print out exactly this word from the line\n",
    "print(text[31:34])"
   ]
  },
  {
   "cell_type": "code",
   "execution_count": 44,
   "metadata": {},
   "outputs": [],
   "source": [
    "# everything but a character\n",
    "pattern = re.compile(r'\\W')"
   ]
  },
  {
   "cell_type": "code",
   "execution_count": 45,
   "metadata": {},
   "outputs": [
    {
     "name": "stdout",
     "output_type": "stream",
     "text": [
      "<re.Match object; span=(5, 6), match=','>\n",
      "<re.Match object; span=(6, 7), match=' '>\n",
      "<re.Match object; span=(12, 13), match=' '>\n",
      "<re.Match object; span=(16, 17), match=' '>\n",
      "<re.Match object; span=(22, 23), match=','>\n",
      "<re.Match object; span=(23, 24), match=' '>\n",
      "<re.Match object; span=(27, 28), match=' '>\n",
      "<re.Match object; span=(30, 31), match=' '>\n"
     ]
    }
   ],
   "source": [
    "matches = pattern.finditer(text)\n",
    "for m in matches:\n",
    "    print(m)  # returns punctuation marks and spaces "
   ]
  },
  {
   "cell_type": "code",
   "execution_count": 49,
   "metadata": {},
   "outputs": [
    {
     "data": {
      "text/plain": [
       "['ell', 'ell']"
      ]
     },
     "execution_count": 49,
     "metadata": {},
     "output_type": "execute_result"
    }
   ],
   "source": [
    "# Find \"H\", three characters, and then o -- and match the three # inner characters. \n",
    "#Result is a list of those three characters\n",
    "\n",
    "re.findall('H(...)o', text)\n",
    "\n",
    "# re.finditer does the same but returns an iterator instead of a list"
   ]
  },
  {
   "cell_type": "code",
   "execution_count": 51,
   "metadata": {},
   "outputs": [
    {
     "data": {
      "text/plain": [
       "'H@ll@, w@rld @nd H@ll@, @ll @f y@@'"
      ]
     },
     "execution_count": 51,
     "metadata": {},
     "output_type": "execute_result"
    }
   ],
   "source": [
    "\"\"\"\n",
    "Substituting text is done with re.sub, which takes a regexp string, a replace- ment string, and the text in which to search. \n",
    "It returns the transformed string, leaving the original string untouched. \n",
    "For example, the following replaces all vowels in a string with @:\n",
    "\"\"\"\n",
    "re.sub('[aeiou]','@', text) # what to substitute, with what, where\n"
   ]
  },
  {
   "cell_type": "code",
   "execution_count": 56,
   "metadata": {},
   "outputs": [],
   "source": [
    "# Let's work with phone numbers\n",
    "phones = '212-333-1234 is the landline while 347.444.9876 is the cell phone number.'\n",
    "\n",
    "phone_pattern = re.compile(r'\\d\\d\\d.\\d\\d\\d.\\d\\d\\d\\d')  # dot here doesn't mean the dot in the cell phone number, it means any character\n",
    "phone_matches = phone_pattern.finditer(phones)"
   ]
  },
  {
   "cell_type": "code",
   "execution_count": 57,
   "metadata": {},
   "outputs": [
    {
     "name": "stdout",
     "output_type": "stream",
     "text": [
      "<re.Match object; span=(0, 12), match='212-333-1234'>\n",
      "<re.Match object; span=(35, 47), match='347.444.9876'>\n"
     ]
    }
   ],
   "source": [
    "for p in phone_matches:\n",
    "    print(p)"
   ]
  },
  {
   "cell_type": "code",
   "execution_count": null,
   "metadata": {},
   "outputs": [],
   "source": [
    "#alalala"
   ]
  }
 ],
 "metadata": {
  "kernelspec": {
   "display_name": "Python 3",
   "language": "python",
   "name": "python3"
  },
  "language_info": {
   "codemirror_mode": {
    "name": "ipython",
    "version": 3
   },
   "file_extension": ".py",
   "mimetype": "text/x-python",
   "name": "python",
   "nbconvert_exporter": "python",
   "pygments_lexer": "ipython3",
   "version": "3.7.0"
  }
 },
 "nbformat": 4,
 "nbformat_minor": 4
}
