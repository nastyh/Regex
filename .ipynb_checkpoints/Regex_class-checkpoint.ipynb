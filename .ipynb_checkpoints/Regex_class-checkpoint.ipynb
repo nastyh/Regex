{
 "cells": [
  {
   "cell_type": "markdown",
   "metadata": {},
   "source": [
    "### Basics"
   ]
  },
  {
   "cell_type": "code",
   "execution_count": 1,
   "metadata": {},
   "outputs": [],
   "source": [
    "import re"
   ]
  },
  {
   "cell_type": "code",
   "execution_count": 3,
   "metadata": {},
   "outputs": [],
   "source": [
    "text = 'hello, world'"
   ]
  },
  {
   "cell_type": "code",
   "execution_count": 8,
   "metadata": {},
   "outputs": [
    {
     "data": {
      "text/plain": [
       "<re.Match object; span=(0, 5), match='hello'>"
      ]
     },
     "execution_count": 8,
     "metadata": {},
     "output_type": "execute_result"
    }
   ],
   "source": [
    "re.search('hello', text) # returns an object. Span means where the word hello is "
   ]
  },
  {
   "cell_type": "code",
   "execution_count": 16,
   "metadata": {},
   "outputs": [],
   "source": [
    "# Find all matches and return as a list\n",
    "text = r'Hello, world and Hello, all of you'"
   ]
  },
  {
   "cell_type": "code",
   "execution_count": 17,
   "metadata": {},
   "outputs": [
    {
     "data": {
      "text/plain": [
       "['Hello', 'Hello']"
      ]
     },
     "execution_count": 17,
     "metadata": {},
     "output_type": "execute_result"
    }
   ],
   "source": [
    "re.findall('Hello', text)"
   ]
  },
  {
   "cell_type": "code",
   "execution_count": 41,
   "metadata": {},
   "outputs": [],
   "source": [
    "pattern = re.compile(r'you') # it will search for exact this combination: abc"
   ]
  },
  {
   "cell_type": "code",
   "execution_count": 42,
   "metadata": {},
   "outputs": [
    {
     "name": "stdout",
     "output_type": "stream",
     "text": [
      "<re.Match object; span=(31, 34), match='you'>\n"
     ]
    }
   ],
   "source": [
    "matches = pattern.finditer(text)\n",
    "for m in matches:\n",
    "    print(m) # what it shows that the word \"world\" in my string starts at position 7 and goes to position 12"
   ]
  },
  {
   "cell_type": "code",
   "execution_count": 43,
   "metadata": {},
   "outputs": [
    {
     "name": "stdout",
     "output_type": "stream",
     "text": [
      "you\n"
     ]
    }
   ],
   "source": [
    "# now we can print out exactly this word from the line\n",
    "print(text[31:34])"
   ]
  },
  {
   "cell_type": "code",
   "execution_count": 44,
   "metadata": {},
   "outputs": [],
   "source": [
    "# everything but a character\n",
    "pattern = re.compile(r'\\W')"
   ]
  },
  {
   "cell_type": "code",
   "execution_count": 45,
   "metadata": {},
   "outputs": [
    {
     "name": "stdout",
     "output_type": "stream",
     "text": [
      "<re.Match object; span=(5, 6), match=','>\n",
      "<re.Match object; span=(6, 7), match=' '>\n",
      "<re.Match object; span=(12, 13), match=' '>\n",
      "<re.Match object; span=(16, 17), match=' '>\n",
      "<re.Match object; span=(22, 23), match=','>\n",
      "<re.Match object; span=(23, 24), match=' '>\n",
      "<re.Match object; span=(27, 28), match=' '>\n",
      "<re.Match object; span=(30, 31), match=' '>\n"
     ]
    }
   ],
   "source": [
    "matches = pattern.finditer(text)\n",
    "for m in matches:\n",
    "    print(m)  # returns punctuation marks and spaces "
   ]
  },
  {
   "cell_type": "code",
   "execution_count": 49,
   "metadata": {},
   "outputs": [
    {
     "data": {
      "text/plain": [
       "['ell', 'ell']"
      ]
     },
     "execution_count": 49,
     "metadata": {},
     "output_type": "execute_result"
    }
   ],
   "source": [
    "# Find \"H\", three characters, and then o -- and match the three inner characters. \n",
    "#Result is a list of those three characters\n",
    "\n",
    "re.findall('H(...)o', text)\n",
    "\n",
    "# re.finditer does the same but returns an iterator instead of a list"
   ]
  },
  {
   "cell_type": "code",
   "execution_count": 51,
   "metadata": {},
   "outputs": [
    {
     "data": {
      "text/plain": [
       "'H@ll@, w@rld @nd H@ll@, @ll @f y@@'"
      ]
     },
     "execution_count": 51,
     "metadata": {},
     "output_type": "execute_result"
    }
   ],
   "source": [
    "\"\"\"\n",
    "Substituting text is done with re.sub, which takes a regexp string, a replacement string, and the text in which to search. \n",
    "It returns the transformed string, leaving the original string untouched. \n",
    "For example, the following replaces all vowels in a string with @:\n",
    "\"\"\"\n",
    "re.sub('[aeiou]','@', text) # what to substitute, with what, where"
   ]
  },
  {
   "cell_type": "markdown",
   "metadata": {},
   "source": [
    "#### Phone numbers"
   ]
  },
  {
   "cell_type": "code",
   "execution_count": 56,
   "metadata": {},
   "outputs": [],
   "source": [
    "# Let's work with phone numbers\n",
    "phones = '212-333-1234 is the landline while 347.444.9876 is the cell phone number.'\n",
    "\n",
    "phone_pattern = re.compile(r'\\d\\d\\d.\\d\\d\\d.\\d\\d\\d\\d')  # dot here doesn't mean the dot in the cell phone number, it means any character\n",
    "phone_matches = phone_pattern.finditer(phones)"
   ]
  },
  {
   "cell_type": "code",
   "execution_count": 57,
   "metadata": {},
   "outputs": [
    {
     "name": "stdout",
     "output_type": "stream",
     "text": [
      "<re.Match object; span=(0, 12), match='212-333-1234'>\n",
      "<re.Match object; span=(35, 47), match='347.444.9876'>\n"
     ]
    }
   ],
   "source": [
    "for p in phone_matches:\n",
    "    print(p)"
   ]
  },
  {
   "cell_type": "code",
   "execution_count": 88,
   "metadata": {},
   "outputs": [],
   "source": [
    "# now imagine we're adding a new phone number 201*765*1122. If we keep using a dot in the pattern,\n",
    "# this number will be returned as well. But what if we want only numbers that have dashes and dots as a separator?\n",
    "phones1 = '212-333-1234 is the landline while 347.444.9876 is the cell phone number. And this 201*765*1122 shouldn''t be chosen'\n",
    "\n",
    "phones1_pattern = re.compile(r'\\d\\d\\d[-.]\\d\\d\\d[-.]\\d\\d\\d\\d') # instead of the dot we put the square brackets and inside -- what symbols we want"
   ]
  },
  {
   "cell_type": "code",
   "execution_count": 89,
   "metadata": {},
   "outputs": [
    {
     "name": "stdout",
     "output_type": "stream",
     "text": [
      "<re.Match object; span=(0, 12), match='212-333-1234'>\n",
      "<re.Match object; span=(35, 47), match='347.444.9876'>\n"
     ]
    }
   ],
   "source": [
    "phone_matches1 = phones1_pattern.finditer(phones1)\n",
    "for ph in phone_matches1:\n",
    "    print(ph)"
   ]
  },
  {
   "cell_type": "code",
   "execution_count": 91,
   "metadata": {},
   "outputs": [],
   "source": [
    "# Now let's match only numbers starting with 312 and 313\n",
    "phones2 = '212-333-1234 is the landline while 347.444.9876 is the cell phone number. I want this 312-999-4321 and 313.888.6578'\n",
    "\n",
    "phones2_pattern=re.compile(r'31[23][-.]\\d\\d\\d[-.]\\d\\d\\d\\d') # give me 312 and 313 and either - or . between the digits"
   ]
  },
  {
   "cell_type": "code",
   "execution_count": 92,
   "metadata": {},
   "outputs": [
    {
     "name": "stdout",
     "output_type": "stream",
     "text": [
      "<re.Match object; span=(86, 98), match='312-999-4321'>\n",
      "<re.Match object; span=(103, 115), match='313.888.6578'>\n"
     ]
    }
   ],
   "source": [
    "phone_matches2 = phones2_pattern.finditer(phones2)\n",
    "for ph in phone_matches2:\n",
    "    print(ph)"
   ]
  },
  {
   "cell_type": "code",
   "execution_count": 107,
   "metadata": {},
   "outputs": [],
   "source": [
    "# Let's rewrite using quantifiers\n",
    "phones3_pattern = re.compile(r'\\d{3}[-.]\\d{3}[-.]\\d{4}') # we rewrite phones1_pattern essentially"
   ]
  },
  {
   "cell_type": "code",
   "execution_count": 108,
   "metadata": {},
   "outputs": [
    {
     "name": "stdout",
     "output_type": "stream",
     "text": [
      "<re.Match object; span=(0, 12), match='212-333-1234'>\n",
      "<re.Match object; span=(35, 47), match='347.444.9876'>\n"
     ]
    }
   ],
   "source": [
    "phone_matches3 = phones3_pattern.finditer(phones1)\n",
    "for ph in phone_matches3:\n",
    "    print(ph)"
   ]
  },
  {
   "cell_type": "markdown",
   "metadata": {},
   "source": [
    "#### Negations"
   ]
  },
  {
   "cell_type": "code",
   "execution_count": 103,
   "metadata": {},
   "outputs": [],
   "source": [
    "neg = 'mat pat sat bat tat and some other non-relevant stuff'\n",
    "# imagine we want to <letter>at but letter shouldn't be a 'b'\n",
    "neg_pattern = re.compile(r'[^b]at')"
   ]
  },
  {
   "cell_type": "code",
   "execution_count": 104,
   "metadata": {},
   "outputs": [
    {
     "name": "stdout",
     "output_type": "stream",
     "text": [
      "<re.Match object; span=(0, 3), match='mat'>\n",
      "<re.Match object; span=(4, 7), match='pat'>\n",
      "<re.Match object; span=(8, 11), match='sat'>\n",
      "<re.Match object; span=(16, 19), match='tat'>\n"
     ]
    }
   ],
   "source": [
    "neg_matches = neg_pattern.finditer(neg)\n",
    "for n in neg_matches:\n",
    "    print(n)"
   ]
  },
  {
   "cell_type": "markdown",
   "metadata": {},
   "source": [
    "### Working with the dictionary from the .txt file"
   ]
  },
  {
   "cell_type": "code",
   "execution_count": 58,
   "metadata": {},
   "outputs": [],
   "source": [
    "with open('words.txt','r') as f:\n",
    "    contents = f.read() # loading the txt file that is stored in the same folder. Takes some memory"
   ]
  },
  {
   "cell_type": "code",
   "execution_count": 100,
   "metadata": {},
   "outputs": [
    {
     "name": "stdin",
     "output_type": "stream",
     "text": [
      "Type a word you are looking for ambulation\n"
     ]
    }
   ],
   "source": [
    "# User types in a word, we look it up in the dictionary. It also accepts regex patterns. Try ta.{4}\n",
    "phrase = input('Type a word you are looking for')\n"
   ]
  },
  {
   "cell_type": "code",
   "execution_count": 86,
   "metadata": {},
   "outputs": [],
   "source": [
    "ro = re.compile(phrase)"
   ]
  },
  {
   "cell_type": "code",
   "execution_count": 101,
   "metadata": {},
   "outputs": [],
   "source": [
    "word_pattern = re.compile(phrase)"
   ]
  },
  {
   "cell_type": "code",
   "execution_count": 102,
   "metadata": {},
   "outputs": [
    {
     "name": "stdout",
     "output_type": "stream",
     "text": [
      "<re.Match object; span=(65658, 65668), match='ambulation'>\n",
      "<re.Match object; span=(95325, 95335), match='ambulation'>\n",
      "<re.Match object; span=(374178, 374188), match='ambulation'>\n",
      "<re.Match object; span=(508153, 508163), match='ambulation'>\n",
      "<re.Match object; span=(771559, 771569), match='ambulation'>\n",
      "<re.Match object; span=(1298515, 1298525), match='ambulation'>\n",
      "<re.Match object; span=(1347637, 1347647), match='ambulation'>\n",
      "<re.Match object; span=(1490569, 1490579), match='ambulation'>\n",
      "<re.Match object; span=(1609494, 1609504), match='ambulation'>\n",
      "<re.Match object; span=(1949657, 1949667), match='ambulation'>\n"
     ]
    }
   ],
   "source": [
    "word_matches = word_pattern.finditer(contents)\n",
    "for w in word_matches:\n",
    "    print(w)"
   ]
  },
  {
   "cell_type": "code",
   "execution_count": null,
   "metadata": {},
   "outputs": [],
   "source": [
    "# Same things but without loading everything in the memory:\n",
    "for line in open('words.txt'):\n",
    "    m = ro.search(line)\n",
    "    if m:\n",
    "        print(line)"
   ]
  }
 ],
 "metadata": {
  "kernelspec": {
   "display_name": "Python 3",
   "language": "python",
   "name": "python3"
  },
  "language_info": {
   "codemirror_mode": {
    "name": "ipython",
    "version": 3
   },
   "file_extension": ".py",
   "mimetype": "text/x-python",
   "name": "python",
   "nbconvert_exporter": "python",
   "pygments_lexer": "ipython3",
   "version": "3.7.0"
  }
 },
 "nbformat": 4,
 "nbformat_minor": 4
}
